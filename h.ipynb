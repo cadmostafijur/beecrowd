{
 "cells": [
  {
   "cell_type": "code",
   "execution_count": 6,
   "id": "0f12782f",
   "metadata": {},
   "outputs": [
    {
     "name": "stdout",
     "output_type": "stream",
     "text": [
      "hello thereana\n",
      "hello there ana\n",
      "hello there ana ana ana\n"
     ]
    }
   ],
   "source": [
    "hi=\"hello there\"\n",
    "name=\"ana\"\n",
    "g=hi+name\n",
    "print(g)\n",
    "gr=hi+\" \"+ name\n",
    "print(gr)\n",
    "si=hi + (\" \"+ name)*3\n",
    "print(si)"
   ]
  },
  {
   "cell_type": "code",
   "execution_count": 7,
   "id": "ad661e1e",
   "metadata": {},
   "outputs": [
    {
     "name": "stdout",
     "output_type": "stream",
     "text": [
      "1\n",
      "my fav num is 1 . 1\n",
      "my fav num is 1.x=1\n"
     ]
    }
   ],
   "source": [
    "x=1\n",
    "print(x)\n",
    "x_str=str(x)\n",
    "print(\"my fav num is\",x,\".\",x)\n",
    "print(\"my fav num is \" + x_str+ \".\"+\"x=\"+x_str)"
   ]
  },
  {
   "cell_type": "code",
   "execution_count": 10,
   "id": "1a462434",
   "metadata": {},
   "outputs": [
    {
     "name": "stdout",
     "output_type": "stream",
     "text": [
      "boss\n",
      "hello boss\n"
     ]
    }
   ],
   "source": [
    "user=input(\"\")\n",
    "print(f\"hello {user}\")\n",
    "print(\"hello {}\".formrt(user))"
   ]
  },
  {
   "cell_type": "code",
   "execution_count": 12,
   "id": "7f7857bf",
   "metadata": {},
   "outputs": [
    {
     "name": "stdout",
     "output_type": "stream",
     "text": [
      "5\n",
      "10\n"
     ]
    },
    {
     "ename": "NameError",
     "evalue": "name 'add_two_values' is not defined",
     "output_type": "error",
     "traceback": [
      "\u001b[1;31m---------------------------------------------------------------------------\u001b[0m",
      "\u001b[1;31mNameError\u001b[0m                                 Traceback (most recent call last)",
      "\u001b[1;32m~\\AppData\\Local\\Temp/ipykernel_9780/559127219.py\u001b[0m in \u001b[0;36m<module>\u001b[1;34m\u001b[0m\n\u001b[0;32m      3\u001b[0m \u001b[0mnum_1\u001b[0m\u001b[1;33m=\u001b[0m\u001b[0mint\u001b[0m\u001b[1;33m(\u001b[0m\u001b[0minput\u001b[0m\u001b[1;33m(\u001b[0m\u001b[1;34m\"\"\u001b[0m\u001b[1;33m)\u001b[0m\u001b[1;33m)\u001b[0m\u001b[1;33m\u001b[0m\u001b[1;33m\u001b[0m\u001b[0m\n\u001b[0;32m      4\u001b[0m \u001b[0mnum_2\u001b[0m\u001b[1;33m=\u001b[0m\u001b[0mint\u001b[0m\u001b[1;33m(\u001b[0m\u001b[0minput\u001b[0m\u001b[1;33m(\u001b[0m\u001b[1;34m\"\"\u001b[0m\u001b[1;33m)\u001b[0m\u001b[1;33m)\u001b[0m\u001b[1;33m\u001b[0m\u001b[1;33m\u001b[0m\u001b[0m\n\u001b[1;32m----> 5\u001b[1;33m \u001b[0msum\u001b[0m \u001b[1;33m=\u001b[0m \u001b[0madd_two_values\u001b[0m\u001b[1;33m(\u001b[0m\u001b[0mnum_1\u001b[0m\u001b[1;33m,\u001b[0m\u001b[0mnum_2\u001b[0m\u001b[1;33m)\u001b[0m\u001b[1;33m\u001b[0m\u001b[1;33m\u001b[0m\u001b[0m\n\u001b[0m\u001b[0;32m      6\u001b[0m \u001b[0mprint\u001b[0m\u001b[1;33m(\u001b[0m\u001b[1;34mf\"{num_1} + {num_2} ={sum}\"\u001b[0m\u001b[1;33m)\u001b[0m\u001b[1;33m\u001b[0m\u001b[1;33m\u001b[0m\u001b[0m\n",
      "\u001b[1;31mNameError\u001b[0m: name 'add_two_values' is not defined"
     ]
    }
   ],
   "source": [
    "def two_value(first,scnd):\n",
    "    return first +scnd\n",
    "num_1=int(input(\"\"))\n",
    "num_2=int(input(\"\"))\n",
    "sum = add_two_values(num_1,num_2)\n",
    "print(f\"{num_1} + {num_2} ={sum}\")"
   ]
  },
  {
   "cell_type": "code",
   "execution_count": 13,
   "id": "de7daec9",
   "metadata": {},
   "outputs": [
    {
     "name": "stdout",
     "output_type": "stream",
     "text": [
      "True\n"
     ]
    }
   ],
   "source": [
    "list_one = [1, 4, 3, 2, 6]\n",
    "list_two = [5, 6, 9, 8, 7]\n",
    "\n",
    "flag = False\n",
    "for i in list_one:\n",
    "  if i in list_two:\n",
    "    flag = True\n",
    "    print(flag)\n",
    "    break\n",
    "if flag==False:\n",
    "  print(flag)"
   ]
  },
  {
   "cell_type": "code",
   "execution_count": 3,
   "id": "42ae5e0d",
   "metadata": {},
   "outputs": [
    {
     "name": "stdout",
     "output_type": "stream",
     "text": [
      "True\n"
     ]
    }
   ],
   "source": [
    "List_one = [1, 4, 3, 2, 5]\n",
    "List_two = [5, 6, 9, 8, 7]\n",
    "\n",
    "flag = False\n",
    "for k in List_one:\n",
    "  if k in List_two:\n",
    "    flag = True\n",
    "    print(flag)\n",
    "    break\n",
    "if flag==False:\n",
    "  print(flag)"
   ]
  },
  {
   "cell_type": "code",
   "execution_count": 11,
   "id": "ee681271",
   "metadata": {},
   "outputs": [
    {
     "name": "stdout",
     "output_type": "stream",
     "text": [
      "False\n"
     ]
    }
   ],
   "source": [
    "lit_one=[1, 4, 3, 2, 5]\n",
    "lit_two=[8, 7, 6, 9]\n",
    "flag = False\n",
    "for k in lit_one:\n",
    "  if k in lit_two:\n",
    "    flag = True\n",
    "    print(flag)\n",
    "    break\n",
    "if flag==False:\n",
    "  print(flag)"
   ]
  },
  {
   "cell_type": "code",
   "execution_count": null,
   "id": "defa571d",
   "metadata": {},
   "outputs": [],
   "source": [
    "List_1=[1, 4, 3, 2, 5]\n",
    "List_2=[5, 6, 9, 8, 7]\n",
    "result = False\n",
    "     for x in list1:\n",
    "         for y in list2:\n",
    "             if x == y:\n",
    "                 result = True\n",
    "                Print(result)\n",
    "                 return result\n",
    "print"
   ]
  },
  {
   "cell_type": "code",
   "execution_count": null,
   "id": "a5ea301a",
   "metadata": {},
   "outputs": [],
   "source": []
  }
 ],
 "metadata": {
  "kernelspec": {
   "display_name": "Python 3 (ipykernel)",
   "language": "python",
   "name": "python3"
  },
  "language_info": {
   "codemirror_mode": {
    "name": "ipython",
    "version": 3
   },
   "file_extension": ".py",
   "mimetype": "text/x-python",
   "name": "python",
   "nbconvert_exporter": "python",
   "pygments_lexer": "ipython3",
   "version": "3.9.7"
  }
 },
 "nbformat": 4,
 "nbformat_minor": 5
}
